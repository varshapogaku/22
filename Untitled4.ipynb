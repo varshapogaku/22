{
  "nbformat": 4,
  "nbformat_minor": 0,
  "metadata": {
    "colab": {
      "provenance": [],
      "authorship_tag": "ABX9TyMHhH77/ztfRjIrwSYXUY46",
      "include_colab_link": true
    },
    "kernelspec": {
      "name": "python3",
      "display_name": "Python 3"
    },
    "language_info": {
      "name": "python"
    }
  },
  "cells": [
    {
      "cell_type": "markdown",
      "metadata": {
        "id": "view-in-github",
        "colab_type": "text"
      },
      "source": [
        "<a href=\"https://colab.research.google.com/github/varshapogaku/22/blob/main/Untitled4.ipynb\" target=\"_parent\"><img src=\"https://colab.research.google.com/assets/colab-badge.svg\" alt=\"Open In Colab\"/></a>"
      ]
    },
    {
      "cell_type": "code",
      "execution_count": 1,
      "metadata": {
        "id": "7tObWhRnJdnn"
      },
      "outputs": [],
      "source": [
        "import nltk\n",
        "from nltk.tokenize import word_tokenize\n",
        "from nltk.stem import PorterStemmer, SnowballStemmer\n",
        "from nltk.stem import WordNetLemmatizer"
      ]
    },
    {
      "cell_type": "code",
      "source": [
        "nltk.download('punkt')\n",
        "nltk.download('wordnet')\n",
        "nltk.download('omw-1.4')\n",
        "nltk.download('punkt_tab')"
      ],
      "metadata": {
        "colab": {
          "base_uri": "https://localhost:8080/"
        },
        "id": "95JMQaFyJrjF",
        "outputId": "59608aa6-e2bb-4469-b0b2-1fb3f4b1a5da"
      },
      "execution_count": 2,
      "outputs": [
        {
          "output_type": "stream",
          "name": "stderr",
          "text": [
            "[nltk_data] Downloading package punkt to /root/nltk_data...\n",
            "[nltk_data]   Unzipping tokenizers/punkt.zip.\n",
            "[nltk_data] Downloading package wordnet to /root/nltk_data...\n",
            "[nltk_data] Downloading package omw-1.4 to /root/nltk_data...\n",
            "[nltk_data] Downloading package punkt_tab to /root/nltk_data...\n",
            "[nltk_data]   Unzipping tokenizers/punkt_tab.zip.\n"
          ]
        },
        {
          "output_type": "execute_result",
          "data": {
            "text/plain": [
              "True"
            ]
          },
          "metadata": {},
          "execution_count": 2
        }
      ]
    },
    {
      "cell_type": "code",
      "source": [
        "text = \"Jumping players were running swiftly in the fields.\""
      ],
      "metadata": {
        "id": "3h8KtAyyJ2h5"
      },
      "execution_count": 3,
      "outputs": []
    },
    {
      "cell_type": "code",
      "source": [
        "tokens = word_tokenize(text)\n",
        "print(\"Tokenized Words:\")\n",
        "print(tokens)"
      ],
      "metadata": {
        "colab": {
          "base_uri": "https://localhost:8080/"
        },
        "id": "zE-G2RDNJ9T9",
        "outputId": "8907d5b6-5730-46d2-f5e8-6945515116cc"
      },
      "execution_count": 4,
      "outputs": [
        {
          "output_type": "stream",
          "name": "stdout",
          "text": [
            "Tokenized Words:\n",
            "['Jumping', 'players', 'were', 'running', 'swiftly', 'in', 'the', 'fields', '.']\n"
          ]
        }
      ]
    },
    {
      "cell_type": "code",
      "source": [
        "porter_stemmer = PorterStemmer()\n",
        "porter_stems = [porter_stemmer.stem(word) for word in tokens]\n",
        "print(\"\\nStemming using Porter Stemmer:\")\n",
        "print(porter_stems)"
      ],
      "metadata": {
        "colab": {
          "base_uri": "https://localhost:8080/"
        },
        "id": "Pck9FGDDKEjY",
        "outputId": "f17ea850-952b-40ec-b08f-1950ea99b854"
      },
      "execution_count": 5,
      "outputs": [
        {
          "output_type": "stream",
          "name": "stdout",
          "text": [
            "\n",
            "Stemming using Porter Stemmer:\n",
            "['jump', 'player', 'were', 'run', 'swiftli', 'in', 'the', 'field', '.']\n"
          ]
        }
      ]
    },
    {
      "cell_type": "code",
      "source": [
        "snowball_stemmer = SnowballStemmer(\"english\")\n",
        "snowball_stems = [snowball_stemmer.stem(word) for word in tokens]\n",
        "print(\"\\nStemming using Snowball Stemmer:\")\n",
        "print(snowball_stems)"
      ],
      "metadata": {
        "colab": {
          "base_uri": "https://localhost:8080/"
        },
        "id": "ASGBA3izKKhO",
        "outputId": "c320b76a-0499-443e-bd9a-219bd44929ef"
      },
      "execution_count": 6,
      "outputs": [
        {
          "output_type": "stream",
          "name": "stdout",
          "text": [
            "\n",
            "Stemming using Snowball Stemmer:\n",
            "['jump', 'player', 'were', 'run', 'swift', 'in', 'the', 'field', '.']\n"
          ]
        }
      ]
    },
    {
      "cell_type": "code",
      "source": [
        "lemmatizer = WordNetLemmatizer()\n",
        "lemmatized_words = [lemmatizer.lemmatize(word) for word in tokens]\n",
        "print(\"\\nLemmatization using WordNetLemmatizer:\")\n",
        "print(lemmatized_words)"
      ],
      "metadata": {
        "colab": {
          "base_uri": "https://localhost:8080/"
        },
        "id": "P6_34wbBKQIm",
        "outputId": "ec36b681-b814-4997-abd3-2c242362f5b2"
      },
      "execution_count": 7,
      "outputs": [
        {
          "output_type": "stream",
          "name": "stdout",
          "text": [
            "\n",
            "Lemmatization using WordNetLemmatizer:\n",
            "['Jumping', 'player', 'were', 'running', 'swiftly', 'in', 'the', 'field', '.']\n"
          ]
        }
      ]
    },
    {
      "cell_type": "code",
      "source": [
        "words = nltk.word_tokenize(text)\n",
        "lemmatizer = WordNetLemmatizer()"
      ],
      "metadata": {
        "id": "I_XKh7jbKYSv"
      },
      "execution_count": 8,
      "outputs": []
    },
    {
      "cell_type": "code",
      "source": [
        "suffixes = [\"ing\", \"ed\", \"ly\", \"es\", \"s\"]"
      ],
      "metadata": {
        "id": "MV7rSTI6KgZr"
      },
      "execution_count": 9,
      "outputs": []
    },
    {
      "cell_type": "code",
      "source": [
        "print(\"Words with meaningful root words after removing suffixes:\\n\")"
      ],
      "metadata": {
        "colab": {
          "base_uri": "https://localhost:8080/"
        },
        "id": "ZUpZJ6HTKlhQ",
        "outputId": "55005e9d-a2d2-4143-d334-74a9fe35603c"
      },
      "execution_count": 10,
      "outputs": [
        {
          "output_type": "stream",
          "name": "stdout",
          "text": [
            "Words with meaningful root words after removing suffixes:\n",
            "\n"
          ]
        }
      ]
    },
    {
      "cell_type": "code",
      "source": [
        "for word in words:\n",
        "    for suffix in suffixes:\n",
        "        if word.endswith(suffix):\n",
        "            root_word = word[: -len(suffix)]\n",
        "            from nltk.corpus import wordnet\n",
        "            if wordnet.synsets(root_word):\n",
        "                print(f\"Original Word: {word}, Root Word: {root_word}\")"
      ],
      "metadata": {
        "colab": {
          "base_uri": "https://localhost:8080/"
        },
        "id": "_gXlVTC5KwH_",
        "outputId": "11ea71e1-6d17-4416-f1fc-855f48902332"
      },
      "execution_count": 11,
      "outputs": [
        {
          "output_type": "stream",
          "name": "stdout",
          "text": [
            "Original Word: Jumping, Root Word: Jump\n",
            "Original Word: players, Root Word: player\n",
            "Original Word: swiftly, Root Word: swift\n",
            "Original Word: fields, Root Word: field\n"
          ]
        }
      ]
    },
    {
      "cell_type": "code",
      "source": [],
      "metadata": {
        "id": "q-ACc5O2K2jX"
      },
      "execution_count": null,
      "outputs": []
    }
  ]
}