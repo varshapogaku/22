{
  "nbformat": 4,
  "nbformat_minor": 0,
  "metadata": {
    "colab": {
      "provenance": [],
      "authorship_tag": "ABX9TyNKY8A3b8Jd8qzx9XUGooJz",
      "include_colab_link": true
    },
    "kernelspec": {
      "name": "python3",
      "display_name": "Python 3"
    },
    "language_info": {
      "name": "python"
    }
  },
  "cells": [
    {
      "cell_type": "markdown",
      "metadata": {
        "id": "view-in-github",
        "colab_type": "text"
      },
      "source": [
        "<a href=\"https://colab.research.google.com/github/varshapogaku/22/blob/main/Untitled2.ipynb\" target=\"_parent\"><img src=\"https://colab.research.google.com/assets/colab-badge.svg\" alt=\"Open In Colab\"/></a>"
      ]
    },
    {
      "cell_type": "code",
      "execution_count": 1,
      "metadata": {
        "colab": {
          "base_uri": "https://localhost:8080/"
        },
        "id": "lem-W-qZDUdI",
        "outputId": "7d0b2077-26f9-459d-b5e2-ade1187aacc8"
      },
      "outputs": [
        {
          "output_type": "stream",
          "name": "stdout",
          "text": [
            "hello, world!\n"
          ]
        }
      ],
      "source": [
        "text = \"Hello, World!\"\n",
        "lowercase_text = text.lower()\n",
        "\n",
        "print(lowercase_text)  # Output: \"hello, world!\""
      ]
    },
    {
      "cell_type": "code",
      "source": [
        "import string\n",
        "\n",
        "PUNCT_TO_REMOVE = string.punctuation\n",
        "\n",
        "def remove_punctuation(text):\n",
        "    # Remove punctuation using str.translate and remove extra spaces with split and join\n",
        "    return ' '.join(text.translate(str.maketrans('', '', PUNCT_TO_REMOVE)).split())\n",
        "\n",
        "text = \"I'm having a lot of punctuations!!.@@@@@ All special characters will be removed *&&& ;) :) Is it so ? ## Yes :( I will.\"\n",
        "print(remove_punctuation(text))"
      ],
      "metadata": {
        "colab": {
          "base_uri": "https://localhost:8080/"
        },
        "id": "osp_GsdqDdCO",
        "outputId": "0155ea29-9581-43e0-f9c6-c248603e098e"
      },
      "execution_count": 2,
      "outputs": [
        {
          "output_type": "stream",
          "name": "stdout",
          "text": [
            "Im having a lot of punctuations All special characters will be removed Is it so Yes I will\n"
          ]
        }
      ]
    },
    {
      "cell_type": "code",
      "source": [
        "import nltk\n",
        "from nltk.corpus import stopwords\n",
        "\n",
        "# Download the stopwords if not already downloaded\n",
        "nltk.download('stopwords')\n",
        "\n",
        "# Define the list of stopwords\n",
        "stoplist = set(stopwords.words('english'))\n",
        "\n",
        "# Input text\n",
        "text = \"The rose is a beautiful flower and it smells amazing.\"\n",
        "\n",
        "print(\"\\nOriginal text:\")\n",
        "print(text)\n",
        "\n",
        "# Remove stopwords\n",
        "clean_words = [word for word in text.split() if word.lower() not in stoplist]\n",
        "\n",
        "# Join the filtered words back into a string\n",
        "filtered_text = ' '.join(clean_words)\n",
        "\n",
        "print(\"\\nText after removing stopwords:\")\n",
        "print(filtered_text)"
      ],
      "metadata": {
        "colab": {
          "base_uri": "https://localhost:8080/"
        },
        "id": "obvkhK6pDfmL",
        "outputId": "245016a5-b151-42e3-aed2-0f535e1cbb83"
      },
      "execution_count": 3,
      "outputs": [
        {
          "output_type": "stream",
          "name": "stdout",
          "text": [
            "\n",
            "Original text:\n",
            "The rose is a beautiful flower and it smells amazing.\n",
            "\n",
            "Text after removing stopwords:\n",
            "rose beautiful flower smells amazing.\n"
          ]
        },
        {
          "output_type": "stream",
          "name": "stderr",
          "text": [
            "[nltk_data] Downloading package stopwords to /root/nltk_data...\n",
            "[nltk_data]   Unzipping corpora/stopwords.zip.\n"
          ]
        }
      ]
    },
    {
      "cell_type": "code",
      "source": [
        "import nltk\n",
        "from nltk.corpus import stopwords\n",
        "\n",
        "# Download the stopwords if not already downloaded\n",
        "nltk.download('stopwords')\n",
        "\n",
        "# Define the list of stopwords\n",
        "stoplist = set(stopwords.words('english'))\n",
        "\n",
        "# Input text\n",
        "text = \"The rose is a beautiful flower and it smells amazing.\"\n",
        "\n",
        "print(\"\\nOriginal text:\")\n",
        "print(text)\n",
        "\n",
        "# Remove stopwords\n",
        "clean_words = [word for word in text.split() if word.lower() not in stoplist]\n",
        "\n",
        "# Join the filtered words back into a string\n",
        "filtered_text = ' '.join(clean_words)\n",
        "\n",
        "print(\"\\nText after removing stopwords:\")\n",
        "print(filtered_text)"
      ],
      "metadata": {
        "colab": {
          "base_uri": "https://localhost:8080/"
        },
        "id": "69XbYkMtD-WW",
        "outputId": "3e161cb2-1e49-4182-bbbc-36f657c2d05f"
      },
      "execution_count": 4,
      "outputs": [
        {
          "output_type": "stream",
          "name": "stdout",
          "text": [
            "\n",
            "Original text:\n",
            "The rose is a beautiful flower and it smells amazing.\n",
            "\n",
            "Text after removing stopwords:\n",
            "rose beautiful flower smells amazing.\n"
          ]
        },
        {
          "output_type": "stream",
          "name": "stderr",
          "text": [
            "[nltk_data] Downloading package stopwords to /root/nltk_data...\n",
            "[nltk_data]   Package stopwords is already up-to-date!\n"
          ]
        }
      ]
    },
    {
      "cell_type": "code",
      "source": [
        "import re\n",
        "\n",
        "# Example text with emojis\n",
        "text = \"Hello 🌟! How are you 😊? Let's meet at 6:00 PM 🕕.\"\n",
        "\n",
        "print(\"Original Text:\")\n",
        "print(text)\n",
        "\n",
        "# Regular expression to match emojis\n",
        "emoji_pattern = re.compile(\"[\"\n",
        "                           u\"\\U0001F600-\\U0001F64F\"  # Emoticons\n",
        "                           u\"\\U0001F300-\\U0001F5FF\"  # Symbols & pictographs\n",
        "                           u\"\\U0001F680-\\U0001F6FF\"  # Transport & map symbols\n",
        "                           u\"\\U0001F700-\\U0001F77F\"  # Alchemical symbols\n",
        "                           u\"\\U0001F780-\\U0001F7FF\"  # Geometric shapes\n",
        "                           u\"\\U0001F800-\\U0001F8FF\"  # Supplemental arrows\n",
        "                           u\"\\U0001F900-\\U0001F9FF\"  # Supplemental symbols & pictographs\n",
        "                           u\"\\U0001FA00-\\U0001FA6F\"  # Chess symbols\n",
        "                           u\"\\U0001FA70-\\U0001FAFF\"  # Symbols & pictographs extended-A\n",
        "                           u\"\\U00002702-\\U000027B0\"  # Dingbats\n",
        "                           u\"\\U000024C2-\\U0001F251\"  # Enclosed characters\n",
        "                           \"]+\", flags=re.UNICODE)\n",
        "\n",
        "# Removing emojis\n",
        "cleaned_text = emoji_pattern.sub(r'', text)\n",
        "\n",
        "print(\"\\nText after removing emojis:\")\n",
        "print(cleaned_text)"
      ],
      "metadata": {
        "colab": {
          "base_uri": "https://localhost:8080/"
        },
        "id": "ao1jgwCiEEIn",
        "outputId": "f64854fe-0d26-457d-83dc-0c3996c53d5c"
      },
      "execution_count": 5,
      "outputs": [
        {
          "output_type": "stream",
          "name": "stdout",
          "text": [
            "Original Text:\n",
            "Hello 🌟! How are you 😊? Let's meet at 6:00 PM 🕕.\n",
            "\n",
            "Text after removing emojis:\n",
            "Hello ! How are you ? Let's meet at 6:00 PM .\n"
          ]
        }
      ]
    }
  ]
}